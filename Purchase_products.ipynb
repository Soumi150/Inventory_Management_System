{
  "nbformat": 4,
  "nbformat_minor": 0,
  "metadata": {
    "colab": {
      "name": "Purchase_products.ipynb",
      "provenance": []
    },
    "kernelspec": {
      "name": "python3",
      "display_name": "Python 3"
    },
    "language_info": {
      "name": "python"
    }
  },
  "cells": [
    {
      "cell_type": "code",
      "metadata": {
        "id": "JmdsPb-_pdBQ"
      },
      "source": [
        "import json\n",
        "import time"
      ],
      "execution_count": 1,
      "outputs": []
    },
    {
      "cell_type": "markdown",
      "metadata": {
        "id": "88Gi-7KxukPq"
      },
      "source": [
        "####Read existing inventory data"
      ]
    },
    {
      "cell_type": "code",
      "metadata": {
        "colab": {
          "base_uri": "https://localhost:8080/"
        },
        "id": "9_bXLnchqk7x",
        "outputId": "5ef9b144-e5c9-44ad-89e4-2f74c3d06258"
      },
      "source": [
        "fd=open(\"record.json\",\"r\")\n",
        "r=fd.read()\n",
        "fd.close()\n",
        "record=json.loads(r)\n",
        "record"
      ],
      "execution_count": 2,
      "outputs": [
        {
          "output_type": "execute_result",
          "data": {
            "text/plain": [
              "{'122301': {'Expiry Date': '12.12.2021',\n",
              "  'Manufacturing Date': '25.08.2021',\n",
              "  'Product': 'Britannia Cake',\n",
              "  'Quantity': 100,\n",
              "  'Rate': 20},\n",
              " '122302': {'Expiry Date': '25.01.2022',\n",
              "  'Manufacturing Date': '12.08.2021',\n",
              "  'Product': 'Cookies',\n",
              "  'Quantity': 50,\n",
              "  'Rate': 30},\n",
              " '122303': {'Expiry Date': '31.12.2021',\n",
              "  'Manufacturing Date': '19.07.2021',\n",
              "  'Product': 'Dairy Milk',\n",
              "  'Quantity': 75,\n",
              "  'Rate': 25},\n",
              " '122304': {'Expiry Date': '22.11.2021',\n",
              "  'Manufacturing Date': '06.05.2021',\n",
              "  'Product': 'Bournvita',\n",
              "  'Quantity': 40,\n",
              "  'Rate': 240},\n",
              " '122305': {'Expiry Date': '25.10.2021',\n",
              "  'Manufacturing Date': '23.05.2021',\n",
              "  'Product': 'Lays',\n",
              "  'Quantity': 78,\n",
              "  'Rate': 10},\n",
              " '122306': {'Expiry Date': '05.11.2021',\n",
              "  'Manufacturing Date': '30.04.2021',\n",
              "  'Product': 'Hide & Seek Choco Chips',\n",
              "  'Quantity': 63,\n",
              "  'Rate': 20},\n",
              " '122307': {'Expiry Date': '15.01.2022',\n",
              "  'Manufacturing Date': '11.08.2021',\n",
              "  'Product': 'Bourbon',\n",
              "  'Quantity': 200,\n",
              "  'Rate': 35},\n",
              " '122308': {'Expiry Date': '21.11.2021',\n",
              "  'Manufacturing Date': '19.07.2021',\n",
              "  'Product': 'Nutrela Soya Chunks',\n",
              "  'Quantity': 58,\n",
              "  'Rate': 101},\n",
              " '122309': {'Expiry Date': '27.12.2021',\n",
              "  'Manufacturing Date': '09.06.2021',\n",
              "  'Product': 'Kellogs Corn Flakes',\n",
              "  'Quantity': 60,\n",
              "  'Rate': 180},\n",
              " '122310': {'Expiry Date': '02.10.2021',\n",
              "  'Manufacturing Date': '12.05.2021',\n",
              "  'Product': 'Kurkure',\n",
              "  'Quantity': 60,\n",
              "  'Rate': 10},\n",
              " '122311': {'Expiry Date': '15.09.2021',\n",
              "  'Manufacturing Date': '13.07.2021',\n",
              "  'Product': 'Loreal Shampoo',\n",
              "  'Quantity': 80,\n",
              "  'Rate': 160},\n",
              " '122312': {'Expiry Date': '21.12.2021',\n",
              "  'Manufacturing Date': '20.06.2021',\n",
              "  'Product': '5 Star',\n",
              "  'Quantity': 190,\n",
              "  'Rate': 10},\n",
              " '122313': {'Expiry Date': '05.09.2021',\n",
              "  'Manufacturing Date': '05.05.2021',\n",
              "  'Product': 'Amul Ice cream ',\n",
              "  'Quantity': 30,\n",
              "  'Rate': 250},\n",
              " '122314': {'Expiry Date': '15.12.2021',\n",
              "  'Manufacturing Date': '17.08.2021',\n",
              "  'Product': 'Fortune Oil',\n",
              "  'Quantity': 60,\n",
              "  'Rate': 40},\n",
              " '122315': {'Expiry Date': '12.09.2021',\n",
              "  'Manufacturing Date': '23.03.2021',\n",
              "  'Product': 'Coconut Oil',\n",
              "  'Quantity': 41,\n",
              "  'Rate': 48},\n",
              " '122316': {'Expiry Date': '15.09.2021',\n",
              "  'Manufacturing Date': '13.02.2021',\n",
              "  'Product': 'Chana Dal',\n",
              "  'Quantity': 40,\n",
              "  'Rate': 210},\n",
              " '122317': {'Expiry Date': '18.08.2021',\n",
              "  'Manufacturing Date': '08.01.2021',\n",
              "  'Product': 'Moong Dal',\n",
              "  'Quantity': 60,\n",
              "  'Rate': 180},\n",
              " '122318': {'Expiry Date': '07.09.2021',\n",
              "  'Manufacturing Date': '03.09.2021',\n",
              "  'Product': 'Milk',\n",
              "  'Quantity': 500,\n",
              "  'Rate': 30},\n",
              " '122319': {'Expiry Date': '30.09.2021',\n",
              "  'Manufacturing Date': '28.07.2021',\n",
              "  'Product': 'Ghee',\n",
              "  'Quantity': 500,\n",
              "  'Rate': 500},\n",
              " '122320': {'Expiry Date': '15.10.2021',\n",
              "  'Manufacturing Date': '16.07.2021',\n",
              "  'Product': 'Real Fruit Juice',\n",
              "  'Quantity': 200,\n",
              "  'Rate': 50},\n",
              " '122321': {'Expiry Date': '21.12.2021',\n",
              "  'Manufacturing Date': '15.08.2021',\n",
              "  'Product': 'Fruit Juice',\n",
              "  'Quantity': 250,\n",
              "  'Rate': 70},\n",
              " '122322': {'Expiry Date': '15.12.2021',\n",
              "  'Manufacturing Date': '11.06.2021',\n",
              "  'Product': 'Clinic Plus',\n",
              "  'Quantity': 120,\n",
              "  'Rate': 70},\n",
              " '122323': {'Expiry Date': '26.12.2021',\n",
              "  'Manufacturing Date': '13.06.2021',\n",
              "  'Product': 'Horlicks',\n",
              "  'Quantity': 250,\n",
              "  'Rate': 200},\n",
              " '122324': {'Expiry Date': '05.11.2021',\n",
              "  'Manufacturing Date': '25.05.2021',\n",
              "  'Product': 'Soyabean Oil',\n",
              "  'Quantity': 400,\n",
              "  'Rate': 140},\n",
              " '122325': {'Expiry Date': '25.11.2021',\n",
              "  'Manufacturing Date': '28.05.2021',\n",
              "  'Product': 'Sevai',\n",
              "  'Quantity': 110,\n",
              "  'Rate': 130},\n",
              " '122326': {'Expiry Date': '15.10.2021',\n",
              "  'Manufacturing Date': '23.07.2021',\n",
              "  'Product': 'Basmati Rice',\n",
              "  'Quantity': 200,\n",
              "  'Rate': 270},\n",
              " '122327': {'Expiry Date': '15.10.2021',\n",
              "  'Manufacturing Date': '24.04.2021',\n",
              "  'Product': 'Flour/Maida',\n",
              "  'Quantity': 110,\n",
              "  'Rate': 120},\n",
              " '122328': {'Expiry Date': '12.09.2021',\n",
              "  'Manufacturing Date': '14.07.2021',\n",
              "  'Product': 'Fenugreek seeds',\n",
              "  'Quantity': 100,\n",
              "  'Rate': 70},\n",
              " '122329': {'Expiry Date': '20.09.2021',\n",
              "  'Manufacturing Date': '28.08.2021',\n",
              "  'Product': 'Amul Mik Powder',\n",
              "  'Quantity': 50,\n",
              "  'Rate': 60},\n",
              " '122330': {'Expiry Date': '11.09.2021',\n",
              "  'Manufacturing Date': '30.07.2021',\n",
              "  'Product': 'Cocoa Powder ',\n",
              "  'Quantity': 100,\n",
              "  'Rate': 80},\n",
              " '122331': {'Expiry Date': '05.09.2021',\n",
              "  'Manufacturing Date': '29.08.2021',\n",
              "  'Product': 'Bread',\n",
              "  'Quantity': 20,\n",
              "  'Rate': 30},\n",
              " '122332': {'Expiry Date': '27.09.2021',\n",
              "  'Manufacturing Date': '11.07.2021',\n",
              "  'Product': 'Gram Flour',\n",
              "  'Quantity': 117,\n",
              "  'Rate': 90},\n",
              " '122333': {'Expiry Date': '13.11.2022',\n",
              "  'Manufacturing Date': '12.07.2021',\n",
              "  'Product': 'Tea',\n",
              "  'Quantity': 200,\n",
              "  'Rate': 180},\n",
              " '122334': {'Expiry Date': '10.10.2022',\n",
              "  'Manufacturing Date': '26.01.2021',\n",
              "  'Product': 'Lux Soap',\n",
              "  'Quantity': 60,\n",
              "  'Rate': 30}}"
            ]
          },
          "metadata": {},
          "execution_count": 2
        }
      ]
    },
    {
      "cell_type": "markdown",
      "metadata": {
        "id": "gmZVxzb8u6vL"
      },
      "source": [
        "####Customer input and billing"
      ]
    },
    {
      "cell_type": "code",
      "metadata": {
        "colab": {
          "base_uri": "https://localhost:8080/"
        },
        "id": "-8cj-0UCrBzF",
        "outputId": "feddeb52-9c13-46b3-f328-347e5c326c7e"
      },
      "source": [
        "print(\"----------------------------------------------\")\n",
        "print(\"----------------------------------------------\")\n",
        "print(\"            DELIGHTS STORE                  \")\n",
        "print(\"       P-255, Lakefield Colony, Delhi          \")\n",
        "print(\"           Contact: 9856565656                 \")\n",
        "print(\"----------------------------------------------\")\n",
        "print(\"----------------------------------------------\")\n",
        "\n",
        "customer_name=str(input(\"Enter your name:\"))\n",
        "\n",
        "ui_prod_id=str(input(\"Enter id of the product you want to purchase\"))\n",
        "ui_quant=int(input(\"Enter Quantity:\"))\n",
        "\n",
        "if ui_quant > record[ui_prod_id][\"Quantity\"]:\n",
        "  print(\"Enough stock is not available.Only\",record[ui_prod_id][\"Quantity\"],\"nos are currently available in the store\")\n",
        "else:\n",
        "  print(\"Product Name:\", record[ui_prod_id][\"Product\"])\n",
        "  print(\"Price:\", record[ui_prod_id][\"Rate\"])\n",
        "  print(\"Manufacturing Date:\", record[ui_prod_id][\"Manufacturing Date\"])\n",
        "  print(\"Expiry Date:\", record[ui_prod_id][\"Expiry Date\"])\n",
        "  print(\"----------------------------------------------\")\n",
        "  print(\"Billing Amount:\", record[ui_prod_id][\"Rate\"] * int(ui_quant))\n",
        "  print(\"----------------------------------------------\")\n",
        "  record[ui_prod_id][\"Quantity\"]=record[ui_prod_id][\"Quantity\"]-ui_quant\n",
        "\n",
        "\n",
        "purchase_time=time.ctime()\n",
        "print(purchase_time)"
      ],
      "execution_count": 4,
      "outputs": [
        {
          "output_type": "stream",
          "name": "stdout",
          "text": [
            "----------------------------------------------\n",
            "----------------------------------------------\n",
            "            DELIGHTS STORE                  \n",
            "       P-255, Lakefield Colony, Delhi          \n",
            "           Contact: 9856565656                 \n",
            "----------------------------------------------\n",
            "----------------------------------------------\n",
            "Enter your name:Ananya\n",
            "Enter id of the product you want to purchase122304\n",
            "Enter Quantity:2\n",
            "Product Name: Bournvita\n",
            "Price: 240\n",
            "Manufacturing Date: 06.05.2021\n",
            "Expiry Date: 22.11.2021\n",
            "----------------------------------------------\n",
            "Billing Amount: 480\n",
            "----------------------------------------------\n",
            "Mon Sep  6 11:09:13 2021\n"
          ]
        }
      ]
    },
    {
      "cell_type": "markdown",
      "metadata": {
        "id": "mmSEeuRMt3k5"
      },
      "source": [
        "####Update Inventory after purchase\n"
      ]
    },
    {
      "cell_type": "code",
      "metadata": {
        "id": "byBnvELduBBr"
      },
      "source": [
        "updt=json.dumps(record)\n",
        "fd=open(\"record.json\",\"w\")\n",
        "fd.write(updt)\n",
        "fd.close()"
      ],
      "execution_count": 5,
      "outputs": []
    },
    {
      "cell_type": "code",
      "metadata": {
        "colab": {
          "base_uri": "https://localhost:8080/",
          "height": 171
        },
        "id": "16oU4XFhu1GE",
        "outputId": "455e5fff-202c-49fb-d92a-c9e20fec1aca"
      },
      "source": [
        "updt                #check updated record"
      ],
      "execution_count": 6,
      "outputs": [
        {
          "output_type": "execute_result",
          "data": {
            "application/vnd.google.colaboratory.intrinsic+json": {
              "type": "string"
            },
            "text/plain": [
              "'{\"122301\": {\"Product\": \"Britannia Cake\", \"Rate\": 20, \"Quantity\": 100, \"Manufacturing Date\": \"25.08.2021\", \"Expiry Date\": \"12.12.2021\"}, \"122302\": {\"Product\": \"Cookies\", \"Rate\": 30, \"Quantity\": 50, \"Manufacturing Date\": \"12.08.2021\", \"Expiry Date\": \"25.01.2022\"}, \"122303\": {\"Product\": \"Dairy Milk\", \"Rate\": 25, \"Quantity\": 75, \"Manufacturing Date\": \"19.07.2021\", \"Expiry Date\": \"31.12.2021\"}, \"122304\": {\"Product\": \"Bournvita\", \"Rate\": 240, \"Quantity\": 38, \"Manufacturing Date\": \"06.05.2021\", \"Expiry Date\": \"22.11.2021\"}, \"122305\": {\"Product\": \"Lays\", \"Rate\": 10, \"Quantity\": 78, \"Manufacturing Date\": \"23.05.2021\", \"Expiry Date\": \"25.10.2021\"}, \"122306\": {\"Product\": \"Hide & Seek Choco Chips\", \"Rate\": 20, \"Quantity\": 63, \"Manufacturing Date\": \"30.04.2021\", \"Expiry Date\": \"05.11.2021\"}, \"122307\": {\"Product\": \"Bourbon\", \"Rate\": 35, \"Quantity\": 200, \"Manufacturing Date\": \"11.08.2021\", \"Expiry Date\": \"15.01.2022\"}, \"122308\": {\"Product\": \"Nutrela Soya Chunks\", \"Rate\": 101, \"Quantity\": 58, \"Manufacturing Date\": \"19.07.2021\", \"Expiry Date\": \"21.11.2021\"}, \"122309\": {\"Product\": \"Kellogs Corn Flakes\", \"Rate\": 180, \"Quantity\": 60, \"Manufacturing Date\": \"09.06.2021\", \"Expiry Date\": \"27.12.2021\"}, \"122310\": {\"Product\": \"Kurkure\", \"Rate\": 10, \"Quantity\": 60, \"Manufacturing Date\": \"12.05.2021\", \"Expiry Date\": \"02.10.2021\"}, \"122311\": {\"Product\": \"Loreal Shampoo\", \"Rate\": 160, \"Quantity\": 80, \"Manufacturing Date\": \"13.07.2021\", \"Expiry Date\": \"15.09.2021\"}, \"122312\": {\"Product\": \"5 Star\", \"Rate\": 10, \"Quantity\": 190, \"Manufacturing Date\": \"20.06.2021\", \"Expiry Date\": \"21.12.2021\"}, \"122313\": {\"Product\": \"Amul Ice cream \", \"Rate\": 250, \"Quantity\": 30, \"Manufacturing Date\": \"05.05.2021\", \"Expiry Date\": \"05.09.2021\"}, \"122314\": {\"Product\": \"Fortune Oil\", \"Rate\": 40, \"Quantity\": 60, \"Manufacturing Date\": \"17.08.2021\", \"Expiry Date\": \"15.12.2021\"}, \"122315\": {\"Product\": \"Coconut Oil\", \"Rate\": 48, \"Quantity\": 41, \"Manufacturing Date\": \"23.03.2021\", \"Expiry Date\": \"12.09.2021\"}, \"122316\": {\"Product\": \"Chana Dal\", \"Rate\": 210, \"Quantity\": 40, \"Manufacturing Date\": \"13.02.2021\", \"Expiry Date\": \"15.09.2021\"}, \"122317\": {\"Product\": \"Moong Dal\", \"Rate\": 180, \"Quantity\": 60, \"Manufacturing Date\": \"08.01.2021\", \"Expiry Date\": \"18.08.2021\"}, \"122318\": {\"Product\": \"Milk\", \"Rate\": 30, \"Quantity\": 500, \"Manufacturing Date\": \"03.09.2021\", \"Expiry Date\": \"07.09.2021\"}, \"122319\": {\"Product\": \"Ghee\", \"Rate\": 500, \"Quantity\": 500, \"Manufacturing Date\": \"28.07.2021\", \"Expiry Date\": \"30.09.2021\"}, \"122320\": {\"Product\": \"Real Fruit Juice\", \"Rate\": 50, \"Quantity\": 200, \"Manufacturing Date\": \"16.07.2021\", \"Expiry Date\": \"15.10.2021\"}, \"122321\": {\"Product\": \"Fruit Juice\", \"Rate\": 70, \"Quantity\": 250, \"Manufacturing Date\": \"15.08.2021\", \"Expiry Date\": \"21.12.2021\"}, \"122322\": {\"Product\": \"Clinic Plus\", \"Rate\": 70, \"Quantity\": 120, \"Manufacturing Date\": \"11.06.2021\", \"Expiry Date\": \"15.12.2021\"}, \"122323\": {\"Product\": \"Horlicks\", \"Rate\": 200, \"Quantity\": 250, \"Manufacturing Date\": \"13.06.2021\", \"Expiry Date\": \"26.12.2021\"}, \"122324\": {\"Product\": \"Soyabean Oil\", \"Rate\": 140, \"Quantity\": 400, \"Manufacturing Date\": \"25.05.2021\", \"Expiry Date\": \"05.11.2021\"}, \"122325\": {\"Product\": \"Sevai\", \"Rate\": 130, \"Quantity\": 110, \"Manufacturing Date\": \"28.05.2021\", \"Expiry Date\": \"25.11.2021\"}, \"122326\": {\"Product\": \"Basmati Rice\", \"Rate\": 270, \"Quantity\": 200, \"Manufacturing Date\": \"23.07.2021\", \"Expiry Date\": \"15.10.2021\"}, \"122327\": {\"Product\": \"Flour/Maida\", \"Rate\": 120, \"Quantity\": 110, \"Manufacturing Date\": \"24.04.2021\", \"Expiry Date\": \"15.10.2021\"}, \"122328\": {\"Product\": \"Fenugreek seeds\", \"Rate\": 70, \"Quantity\": 100, \"Manufacturing Date\": \"14.07.2021\", \"Expiry Date\": \"12.09.2021\"}, \"122329\": {\"Product\": \"Amul Mik Powder\", \"Rate\": 60, \"Quantity\": 50, \"Manufacturing Date\": \"28.08.2021\", \"Expiry Date\": \"20.09.2021\"}, \"122330\": {\"Product\": \"Cocoa Powder \", \"Rate\": 80, \"Quantity\": 100, \"Manufacturing Date\": \"30.07.2021\", \"Expiry Date\": \"11.09.2021\"}, \"122331\": {\"Product\": \"Bread\", \"Rate\": 30, \"Quantity\": 20, \"Manufacturing Date\": \"29.08.2021\", \"Expiry Date\": \"05.09.2021\"}, \"122332\": {\"Product\": \"Gram Flour\", \"Rate\": 90, \"Quantity\": 117, \"Manufacturing Date\": \"11.07.2021\", \"Expiry Date\": \"27.09.2021\"}, \"122333\": {\"Product\": \"Tea\", \"Rate\": 180, \"Quantity\": 200, \"Manufacturing Date\": \"12.07.2021\", \"Expiry Date\": \"13.11.2022\"}, \"122334\": {\"Product\": \"Lux Soap\", \"Rate\": 30, \"Quantity\": 60, \"Manufacturing Date\": \"26.01.2021\", \"Expiry Date\": \"10.10.2022\"}}'"
            ]
          },
          "metadata": {},
          "execution_count": 6
        }
      ]
    },
    {
      "cell_type": "markdown",
      "metadata": {
        "id": "w4iVeEbnu54P"
      },
      "source": [
        "####Generating Sales Json"
      ]
    },
    {
      "cell_type": "code",
      "metadata": {
        "id": "VoQEzCo3u4Ip"
      },
      "source": [
        "sale_info={\"Customer Name\":customer_name,\"Product ID\":ui_prod_id,\"Product Name\":record[ui_prod_id][\"Product\"],\"Quantity\":ui_quant, \"Billing Amount\":record[ui_prod_id][\"Rate\"] * int(ui_quant),\"Transaction Time\":purchase_time}"
      ],
      "execution_count": 7,
      "outputs": []
    },
    {
      "cell_type": "code",
      "metadata": {
        "id": "u60-nWlSwW9Q"
      },
      "source": [
        "fd = open(\"sales.json\",'r')\n",
        "txn = fd.read()\n",
        "fd.close()\n",
        "sales = json.loads(txn)\n",
        "\n",
        "if (len(sales) == 0):\n",
        "    print(\"Nothing in sales\")\n",
        "    sales[(len(sales) + 1)] = sale_info\n",
        "else:   \n",
        "    sales[(len(sales) + 1)] = sale_info\n"
      ],
      "execution_count": 8,
      "outputs": []
    },
    {
      "cell_type": "code",
      "metadata": {
        "id": "SZ0WsOArXZZB"
      },
      "source": [
        "sale = json.dumps(sales)\n",
        "fs = open(\"sales.json\", 'w')           \n",
        "fs.write(sale)\n",
        "fs.close()"
      ],
      "execution_count": 9,
      "outputs": []
    },
    {
      "cell_type": "code",
      "metadata": {
        "colab": {
          "base_uri": "https://localhost:8080/",
          "height": 137
        },
        "id": "IepJ3RCGwvX8",
        "outputId": "e258f4d9-adb7-47c5-8e3f-8f587fb61de7"
      },
      "source": [
        "sale"
      ],
      "execution_count": 10,
      "outputs": [
        {
          "output_type": "execute_result",
          "data": {
            "application/vnd.google.colaboratory.intrinsic+json": {
              "type": "string"
            },
            "text/plain": [
              "'{\"1\": {\"Billing Amount\": 1080, \"Customer Name\": \"Aditya\", \"Product ID\": \"122309\", \"Product Name\": \"Kellogs Corn Flakes\", \"Quantity\": 3, \"Transaction Time\": \"Mon Sep  6 08:43:37 2021\"}, \"2\": {\"Customer Name\": \"Rohan\", \"Product ID\": \"122303\", \"Product Name\": \"Dairy Milk\", \"Quantity\": 5, \"Billing Amount\": 125, \"Transaction Time\": \"Mon Sep  6 11:03:27 2021\"}, \"3\": {\"Customer Name\": \"Sunaina\", \"Product ID\": \"122308\", \"Product Name\": \"Nutrela Soya Chunks\", \"Quantity\": 2, \"Billing Amount\": 202, \"Transaction Time\": \"Mon Sep  6 11:04:19 2021\"}, \"4\": {\"Customer Name\": \"Mehul\", \"Product ID\": \"122332\", \"Product Name\": \"Gram Flour\", \"Quantity\": 3, \"Billing Amount\": 270, \"Transaction Time\": \"Mon Sep  6 11:05:15 2021\"}, \"5\": {\"Customer Name\": \"Zara\", \"Product ID\": \"122315\", \"Product Name\": \"Coconut Oil\", \"Quantity\": 2, \"Billing Amount\": 96, \"Transaction Time\": \"Mon Sep  6 11:06:27 2021\"}, \"6\": {\"Customer Name\": \"Ananya\", \"Product ID\": \"122304\", \"Product Name\": \"Bournvita\", \"Quantity\": 2, \"Billing Amount\": 480, \"Transaction Time\": \"Mon Sep  6 11:09:13 2021\"}}'"
            ]
          },
          "metadata": {},
          "execution_count": 10
        }
      ]
    }
  ]
}
