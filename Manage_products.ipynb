{
  "nbformat": 4,
  "nbformat_minor": 0,
  "metadata": {
    "colab": {
      "name": "Manage_products.ipynb",
      "provenance": []
    },
    "kernelspec": {
      "name": "python3",
      "display_name": "Python 3"
    },
    "language_info": {
      "name": "python"
    }
  },
  "cells": [
    {
      "cell_type": "code",
      "metadata": {
        "id": "bZ1mIfBVrLgn"
      },
      "source": [
        "import json"
      ],
      "execution_count": 1,
      "outputs": []
    },
    {
      "cell_type": "markdown",
      "metadata": {
        "id": "U5w4jsH9VHaV"
      },
      "source": [
        "####Read data from json\n"
      ]
    },
    {
      "cell_type": "code",
      "metadata": {
        "id": "u44w37H8VYvN"
      },
      "source": [
        "fd = open(\"record.json\",'r')\n",
        "r = fd.read()\n",
        "fd.close()\n",
        "\n",
        "record = json.loads(r)"
      ],
      "execution_count": 3,
      "outputs": []
    },
    {
      "cell_type": "code",
      "metadata": {
        "colab": {
          "base_uri": "https://localhost:8080/"
        },
        "id": "h4Gs7epOVxyA",
        "outputId": "d055559b-acec-4334-96fc-bd0743f17c41"
      },
      "source": [
        "record"
      ],
      "execution_count": 4,
      "outputs": [
        {
          "output_type": "execute_result",
          "data": {
            "text/plain": [
              "{'122301': {'Expiry Date': '12.12.2021',\n",
              "  'Manufacturing Date': '25.08.2021',\n",
              "  'Product': 'Britannia Cake',\n",
              "  'Quantity': 100,\n",
              "  'Rate': 20},\n",
              " '122302': {'Expiry Date': '25.01.2022',\n",
              "  'Manufacturing Date': '12.08.2021',\n",
              "  'Product': 'Cookies',\n",
              "  'Quantity': 50,\n",
              "  'Rate': 30},\n",
              " '122303': {'Expiry Date': '31.12.2021',\n",
              "  'Manufacturing Date': '19.07.2021',\n",
              "  'Product': 'Dairy Milk',\n",
              "  'Quantity': 80,\n",
              "  'Rate': 25},\n",
              " '122304': {'Expiry Date': '22.11.2021',\n",
              "  'Manufacturing Date': '06.05.2021',\n",
              "  'Product': 'Bournvita',\n",
              "  'Quantity': 40,\n",
              "  'Rate': 240},\n",
              " '122305': {'Expiry Date': '25.10.2021',\n",
              "  'Manufacturing Date': '23.05.2021',\n",
              "  'Product': 'Lays',\n",
              "  'Quantity': 78,\n",
              "  'Rate': 10},\n",
              " '122306': {'Expiry Date': '05.11.2021',\n",
              "  'Manufacturing Date': '30.04.2021',\n",
              "  'Product': 'Hide & Seek Choco Chips',\n",
              "  'Quantity': 63,\n",
              "  'Rate': 20},\n",
              " '122307': {'Expiry Date': '15.01.2022',\n",
              "  'Manufacturing Date': '11.08.2021',\n",
              "  'Product': 'Bourbon',\n",
              "  'Quantity': 200,\n",
              "  'Rate': 35},\n",
              " '122308': {'Expiry Date': '21.11.2021',\n",
              "  'Manufacturing Date': '19.07.2021',\n",
              "  'Product': 'Nutrela Soya Chunks',\n",
              "  'Quantity': 60,\n",
              "  'Rate': 101},\n",
              " '122309': {'Expiry Date': '27.12.2021',\n",
              "  'Manufacturing Date': '09.06.2021',\n",
              "  'Product': 'Kellogs Corn Flakes',\n",
              "  'Quantity': 60,\n",
              "  'Rate': 180},\n",
              " '122310': {'Expiry Date': '02.10.2021',\n",
              "  'Manufacturing Date': '12.05.2021',\n",
              "  'Product': 'Kurkure',\n",
              "  'Quantity': 60,\n",
              "  'Rate': 10},\n",
              " '122311': {'Expiry Date': '15.09.2021',\n",
              "  'Manufacturing Date': '13.07.2021',\n",
              "  'Product': 'Loreal Shampoo',\n",
              "  'Quantity': 80,\n",
              "  'Rate': 160},\n",
              " '122312': {'Expiry Date': '21.12.2021',\n",
              "  'Manufacturing Date': '20.06.2021',\n",
              "  'Product': '5 Star',\n",
              "  'Quantity': 190,\n",
              "  'Rate': 10},\n",
              " '122313': {'Expiry Date': '05.09.2021',\n",
              "  'Manufacturing Date': '05.05.2021',\n",
              "  'Product': 'Amul Ice cream ',\n",
              "  'Quantity': 30,\n",
              "  'Rate': 250},\n",
              " '122314': {'Expiry Date': '15.12.2021',\n",
              "  'Manufacturing Date': '17.08.2021',\n",
              "  'Product': 'Fortune Oil',\n",
              "  'Quantity': 60,\n",
              "  'Rate': 40},\n",
              " '122315': {'Expiry Date': '12.09.2021',\n",
              "  'Manufacturing Date': '23.03.2021',\n",
              "  'Product': 'Coconut Oil',\n",
              "  'Quantity': 43,\n",
              "  'Rate': 48},\n",
              " '122316': {'Expiry Date': '15.09.2021',\n",
              "  'Manufacturing Date': '13.02.2021',\n",
              "  'Product': 'Chana Dal',\n",
              "  'Quantity': 40,\n",
              "  'Rate': 210},\n",
              " '122317': {'Expiry Date': '18.08.2021',\n",
              "  'Manufacturing Date': '08.01.2021',\n",
              "  'Product': 'Moong Dal',\n",
              "  'Quantity': 60,\n",
              "  'Rate': 180},\n",
              " '122318': {'Expiry Date': '07.09.2021',\n",
              "  'Manufacturing Date': '03.09.2021',\n",
              "  'Product': 'Milk',\n",
              "  'Quantity': 500,\n",
              "  'Rate': 30},\n",
              " '122319': {'Expiry Date': '30.09.2021',\n",
              "  'Manufacturing Date': '28.07.2021',\n",
              "  'Product': 'Ghee',\n",
              "  'Quantity': 500,\n",
              "  'Rate': 500},\n",
              " '122320': {'Expiry Date': '15.10.2021',\n",
              "  'Manufacturing Date': '16.07.2021',\n",
              "  'Product': 'Real Fruit Juice',\n",
              "  'Quantity': 200,\n",
              "  'Rate': 50},\n",
              " '122321': {'Expiry Date': '21.12.2021',\n",
              "  'Manufacturing Date': '15.08.2021',\n",
              "  'Product': 'Fruit Juice',\n",
              "  'Quantity': 250,\n",
              "  'Rate': 70},\n",
              " '122322': {'Expiry Date': '15.12.2021',\n",
              "  'Manufacturing Date': '11.06.2021',\n",
              "  'Product': 'Clinic Plus',\n",
              "  'Quantity': 120,\n",
              "  'Rate': 70},\n",
              " '122323': {'Expiry Date': '26.12.2021',\n",
              "  'Manufacturing Date': '13.06.2021',\n",
              "  'Product': 'Horlicks',\n",
              "  'Quantity': 250,\n",
              "  'Rate': 200},\n",
              " '122324': {'Expiry Date': '05.11.2021',\n",
              "  'Manufacturing Date': '25.05.2021',\n",
              "  'Product': 'Soyabean Oil',\n",
              "  'Quantity': 400,\n",
              "  'Rate': 140},\n",
              " '122325': {'Expiry Date': '25.11.2021',\n",
              "  'Manufacturing Date': '28.05.2021',\n",
              "  'Product': 'Sevai',\n",
              "  'Quantity': 110,\n",
              "  'Rate': 130},\n",
              " '122326': {'Expiry Date': '15.10.2021',\n",
              "  'Manufacturing Date': '23.07.2021',\n",
              "  'Product': 'Basmati Rice',\n",
              "  'Quantity': 200,\n",
              "  'Rate': 270},\n",
              " '122327': {'Expiry Date': '15.10.2021',\n",
              "  'Manufacturing Date': '24.04.2021',\n",
              "  'Product': 'Flour/Maida',\n",
              "  'Quantity': 110,\n",
              "  'Rate': 120},\n",
              " '122328': {'Expiry Date': '12.09.2021',\n",
              "  'Manufacturing Date': '14.07.2021',\n",
              "  'Product': 'Fenugreek seeds',\n",
              "  'Quantity': 100,\n",
              "  'Rate': 70},\n",
              " '122329': {'Expiry Date': '20.09.2021',\n",
              "  'Manufacturing Date': '28.08.2021',\n",
              "  'Product': 'Amul Mik Powder',\n",
              "  'Quantity': 50,\n",
              "  'Rate': 60},\n",
              " '122330': {'Expiry Date': '11.09.2021',\n",
              "  'Manufacturing Date': '30.07.2021',\n",
              "  'Product': 'Cocoa Powder ',\n",
              "  'Quantity': 100,\n",
              "  'Rate': 80},\n",
              " '122331': {'Expiry Date': '05.09.2021',\n",
              "  'Manufacturing Date': '29.08.2021',\n",
              "  'Product': 'Bread',\n",
              "  'Quantity': 20,\n",
              "  'Rate': 30},\n",
              " '122332': {'Expiry Date': '27.09.2021',\n",
              "  'Manufacturing Date': '11.07.2021',\n",
              "  'Product': 'Gram Flour',\n",
              "  'Quantity': 120,\n",
              "  'Rate': 90},\n",
              " '122333': {'Expiry Date': '13.11.2022',\n",
              "  'Manufacturing Date': '12.07.2021',\n",
              "  'Product': 'Tea',\n",
              "  'Quantity': 200,\n",
              "  'Rate': 180},\n",
              " '122334': {'Expiry Date': '10.10.2022',\n",
              "  'Manufacturing Date': '26.01.2021',\n",
              "  'Product': 'Lux Soap',\n",
              "  'Quantity': 60,\n",
              "  'Rate': 30}}"
            ]
          },
          "metadata": {},
          "execution_count": 4
        }
      ]
    },
    {
      "cell_type": "markdown",
      "metadata": {
        "id": "NI7IXkWzXO5M"
      },
      "source": [
        "####Instructions"
      ]
    },
    {
      "cell_type": "code",
      "metadata": {
        "colab": {
          "base_uri": "https://localhost:8080/"
        },
        "id": "l5PMFZnmXOPj",
        "outputId": "d76c7145-6d1f-4549-fa38-c7c24a490909"
      },
      "source": [
        "print(\"Hello Admin! Please see the list of available operations\")\n",
        "print(\"1-Add a new Product\")\n",
        "print(\"2-Update existing Product\")\n",
        "print(\"3-View Product Info\")\n",
        "print(\"4-Remove a product from inventory\")"
      ],
      "execution_count": 5,
      "outputs": [
        {
          "output_type": "stream",
          "name": "stdout",
          "text": [
            "Hello Admin! Please see the list of available operations\n",
            "1-Add a new Product\n",
            "2-Update existing Product\n",
            "3-View Product Info\n",
            "4-Remove a product from inventory\n"
          ]
        }
      ]
    },
    {
      "cell_type": "code",
      "metadata": {
        "colab": {
          "base_uri": "https://localhost:8080/"
        },
        "id": "_gSUPm-iZ00o",
        "outputId": "39d8a629-a1f5-4871-b48b-16a00f4b91f1"
      },
      "source": [
        "choice = input(\"What would you like to do? \")"
      ],
      "execution_count": 15,
      "outputs": [
        {
          "name": "stdout",
          "output_type": "stream",
          "text": [
            "What would you like to do? 4\n"
          ]
        }
      ]
    },
    {
      "cell_type": "markdown",
      "metadata": {
        "id": "xNGm9_pChDp-"
      },
      "source": [
        "####Add a new product\n"
      ]
    },
    {
      "cell_type": "code",
      "metadata": {
        "colab": {
          "base_uri": "https://localhost:8080/"
        },
        "id": "kxeaf-fCZc84",
        "outputId": "ff805985-e876-4a93-f758-74f933728349"
      },
      "source": [
        "if(choice == '1'):\n",
        "  prod_id = str(len(record) + 122301)\n",
        "  name = input(\"Enter product name - \")\n",
        "  price = input(\"Enter product price - \")\n",
        "  qty = input(\"Enter quantity - \")\n",
        "  mfg_date = input(\"Enter manufacturing date - \")\n",
        "  exp_date = input(\"Enter Expiry date - \")\n",
        "  record[prod_id] = {'Product': name,\n",
        "                        'Rate': price,\n",
        "                        'Quantity': qty,\n",
        "                        'Manufacturing Date': mfg_date,\n",
        "                        'Expiry Date': exp_date\n",
        "                      }\n",
        "  print(\"Successfully added product with ID as \" + prod_id)"
      ],
      "execution_count": 7,
      "outputs": [
        {
          "output_type": "stream",
          "name": "stdout",
          "text": [
            "Enter product name - Sunfeast Biscuit\n",
            "Enter product price - 30\n",
            "Enter quantity - 140\n",
            "Enter manufacturing date - 25.08.2021\n",
            "Enter Expiry date - 06.07.2022\n",
            "Successfully added product with ID as 122335\n"
          ]
        }
      ]
    },
    {
      "cell_type": "markdown",
      "metadata": {
        "id": "QHAJek75hKBq"
      },
      "source": [
        "####Update Existing Product\n"
      ]
    },
    {
      "cell_type": "code",
      "metadata": {
        "colab": {
          "base_uri": "https://localhost:8080/"
        },
        "id": "MzP7UPF0cgWx",
        "outputId": "acdab572-5104-454f-9ee1-158b3b945a33"
      },
      "source": [
        "if(choice == '2'):\n",
        "  product_id = input(\"Enter product ID - \")\n",
        "    \n",
        "  for i in record[product_id]:\n",
        "      print(i,\"=\", record[product_id][i])\n",
        "    \n",
        "  keys = ['Product', 'Rate',\n",
        "            'Quantity', 'Manufacturing Date', 'Expiry Date']\n",
        "    \n",
        "  print(\"\\nWhat do you want to update ? \")\n",
        "  print(\"1. Product Name \\n2. Product Price \\n3. Product Quantity \\n4. Manufacturing Date \\n5. Expiry Date\")\n",
        "  num = int(input(\"Enter choice number - \"))\n",
        "  update_product = input(\"Enter new value for \" + keys[num-1] + \" - \")\n",
        "  record[product_id][keys[num-1]] = update_product\n",
        "  print(\"Successfully updated product with ID as \" + product_id)"
      ],
      "execution_count": 10,
      "outputs": [
        {
          "output_type": "stream",
          "name": "stdout",
          "text": [
            "Enter product ID - 122304\n",
            "Product = Bournvita\n",
            "Rate = 240\n",
            "Quantity = 40\n",
            "Manufacturing Date = 06.05.2021\n",
            "Expiry Date = 22.11.2021\n",
            "\n",
            "What do you want to update ? \n",
            "1. Product Name \n",
            "2. Product Price \n",
            "3. Product Quantity \n",
            "4. Manufacturing Date \n",
            "5. Expiry Date\n",
            "Enter choice number - 3\n",
            "Enter new value for Quantity - 75\n",
            "Successfully updated product with ID as 122304\n"
          ]
        }
      ]
    },
    {
      "cell_type": "markdown",
      "metadata": {
        "id": "gnlFT0b9hRBS"
      },
      "source": [
        "####View Product info"
      ]
    },
    {
      "cell_type": "code",
      "metadata": {
        "colab": {
          "base_uri": "https://localhost:8080/"
        },
        "id": "uPdCD6tUhWMe",
        "outputId": "8632129b-bfc8-452b-ec16-aa79a0ac6f71"
      },
      "source": [
        "if(choice == '3'):\n",
        "  id = input('Please enter the id of product you wish to view ')\n",
        "  print(record[id])"
      ],
      "execution_count": 14,
      "outputs": [
        {
          "output_type": "stream",
          "name": "stdout",
          "text": [
            "Please enter the id of product you wish to view 122318\n",
            "{'Product': 'Milk', 'Rate': 30, 'Quantity': 500, 'Manufacturing Date': '03.09.2021', 'Expiry Date': '07.09.2021'}\n"
          ]
        }
      ]
    },
    {
      "cell_type": "markdown",
      "metadata": {
        "id": "ZKhL6nE7h3QX"
      },
      "source": [
        "####Remove a Product"
      ]
    },
    {
      "cell_type": "code",
      "metadata": {
        "colab": {
          "base_uri": "https://localhost:8080/"
        },
        "id": "lwHsiFexh-c8",
        "outputId": "c77c92eb-c623-4431-fd54-f331ee19522b"
      },
      "source": [
        "if(choice == '4'):\n",
        "  del_id = input('Please enter the id of product you wish to remove ')\n",
        "  del record[del_id]\n",
        "  print (\"Successfully removed product with id as \" + del_id)"
      ],
      "execution_count": 16,
      "outputs": [
        {
          "output_type": "stream",
          "name": "stdout",
          "text": [
            "Please enter the id of product you wish to remove 122326\n",
            "Successfully removed product with id as 122326\n"
          ]
        }
      ]
    },
    {
      "cell_type": "markdown",
      "metadata": {
        "id": "AmCMn0qVmVRs"
      },
      "source": [
        "####Writing back to record.json file"
      ]
    },
    {
      "cell_type": "code",
      "metadata": {
        "id": "Bdk-Geg1lM5D"
      },
      "source": [
        "fd = open(\"record.json\", 'w')\n",
        "js = json.dumps(record)\n",
        "fd.write(js)\n",
        "fd.close()"
      ],
      "execution_count": 17,
      "outputs": []
    },
    {
      "cell_type": "code",
      "metadata": {
        "colab": {
          "base_uri": "https://localhost:8080/"
        },
        "id": "97McdNG5qSSS",
        "outputId": "1973d3d6-f87e-41de-ddf7-ce9c9926fc0b"
      },
      "source": [
        "record                 #check the records after performing operations"
      ],
      "execution_count": 18,
      "outputs": [
        {
          "output_type": "execute_result",
          "data": {
            "text/plain": [
              "{'122301': {'Expiry Date': '12.12.2021',\n",
              "  'Manufacturing Date': '25.08.2021',\n",
              "  'Product': 'Britannia Cake',\n",
              "  'Quantity': 100,\n",
              "  'Rate': 20},\n",
              " '122302': {'Expiry Date': '25.01.2022',\n",
              "  'Manufacturing Date': '12.08.2021',\n",
              "  'Product': 'Cookies',\n",
              "  'Quantity': 50,\n",
              "  'Rate': 30},\n",
              " '122303': {'Expiry Date': '31.12.2021',\n",
              "  'Manufacturing Date': '19.07.2021',\n",
              "  'Product': 'Dairy Milk',\n",
              "  'Quantity': 80,\n",
              "  'Rate': 25},\n",
              " '122304': {'Expiry Date': '22.11.2021',\n",
              "  'Manufacturing Date': '06.05.2021',\n",
              "  'Product': 'Bournvita',\n",
              "  'Quantity': '75',\n",
              "  'Rate': 240},\n",
              " '122305': {'Expiry Date': '25.10.2021',\n",
              "  'Manufacturing Date': '23.05.2021',\n",
              "  'Product': 'Lays',\n",
              "  'Quantity': 78,\n",
              "  'Rate': 10},\n",
              " '122306': {'Expiry Date': '05.11.2021',\n",
              "  'Manufacturing Date': '30.04.2021',\n",
              "  'Product': 'Hide & Seek Choco Chips',\n",
              "  'Quantity': 63,\n",
              "  'Rate': 20},\n",
              " '122307': {'Expiry Date': '15.01.2022',\n",
              "  'Manufacturing Date': '11.08.2021',\n",
              "  'Product': 'Bourbon',\n",
              "  'Quantity': 200,\n",
              "  'Rate': 35},\n",
              " '122308': {'Expiry Date': '21.11.2021',\n",
              "  'Manufacturing Date': '19.07.2021',\n",
              "  'Product': 'Nutrela Soya Chunks',\n",
              "  'Quantity': 60,\n",
              "  'Rate': 101},\n",
              " '122309': {'Expiry Date': '27.12.2021',\n",
              "  'Manufacturing Date': '09.06.2021',\n",
              "  'Product': 'Kellogs Corn Flakes',\n",
              "  'Quantity': 60,\n",
              "  'Rate': 180},\n",
              " '122310': {'Expiry Date': '02.10.2021',\n",
              "  'Manufacturing Date': '12.05.2021',\n",
              "  'Product': 'Kurkure',\n",
              "  'Quantity': 60,\n",
              "  'Rate': 10},\n",
              " '122311': {'Expiry Date': '15.09.2021',\n",
              "  'Manufacturing Date': '13.07.2021',\n",
              "  'Product': 'Loreal Shampoo',\n",
              "  'Quantity': 80,\n",
              "  'Rate': 160},\n",
              " '122312': {'Expiry Date': '21.12.2021',\n",
              "  'Manufacturing Date': '20.06.2021',\n",
              "  'Product': '5 Star',\n",
              "  'Quantity': 190,\n",
              "  'Rate': 10},\n",
              " '122313': {'Expiry Date': '05.09.2021',\n",
              "  'Manufacturing Date': '05.05.2021',\n",
              "  'Product': 'Amul Ice cream ',\n",
              "  'Quantity': 30,\n",
              "  'Rate': 250},\n",
              " '122314': {'Expiry Date': '15.12.2021',\n",
              "  'Manufacturing Date': '17.08.2021',\n",
              "  'Product': 'Fortune Oil',\n",
              "  'Quantity': 60,\n",
              "  'Rate': 40},\n",
              " '122315': {'Expiry Date': '12.09.2021',\n",
              "  'Manufacturing Date': '23.03.2021',\n",
              "  'Product': 'Coconut Oil',\n",
              "  'Quantity': 43,\n",
              "  'Rate': 48},\n",
              " '122316': {'Expiry Date': '15.09.2021',\n",
              "  'Manufacturing Date': '13.02.2021',\n",
              "  'Product': 'Chana Dal',\n",
              "  'Quantity': 40,\n",
              "  'Rate': 210},\n",
              " '122317': {'Expiry Date': '18.08.2021',\n",
              "  'Manufacturing Date': '08.01.2021',\n",
              "  'Product': 'Moong Dal',\n",
              "  'Quantity': 60,\n",
              "  'Rate': 180},\n",
              " '122318': {'Expiry Date': '07.09.2021',\n",
              "  'Manufacturing Date': '03.09.2021',\n",
              "  'Product': 'Milk',\n",
              "  'Quantity': 500,\n",
              "  'Rate': 30},\n",
              " '122319': {'Expiry Date': '30.09.2021',\n",
              "  'Manufacturing Date': '28.07.2021',\n",
              "  'Product': 'Ghee',\n",
              "  'Quantity': 500,\n",
              "  'Rate': 500},\n",
              " '122320': {'Expiry Date': '15.10.2021',\n",
              "  'Manufacturing Date': '16.07.2021',\n",
              "  'Product': 'Real Fruit Juice',\n",
              "  'Quantity': 200,\n",
              "  'Rate': 50},\n",
              " '122321': {'Expiry Date': '21.12.2021',\n",
              "  'Manufacturing Date': '15.08.2021',\n",
              "  'Product': 'Fruit Juice',\n",
              "  'Quantity': 250,\n",
              "  'Rate': 70},\n",
              " '122322': {'Expiry Date': '15.12.2021',\n",
              "  'Manufacturing Date': '11.06.2021',\n",
              "  'Product': 'Clinic Plus',\n",
              "  'Quantity': 120,\n",
              "  'Rate': 70},\n",
              " '122323': {'Expiry Date': '26.12.2021',\n",
              "  'Manufacturing Date': '13.06.2021',\n",
              "  'Product': 'Horlicks',\n",
              "  'Quantity': 250,\n",
              "  'Rate': 200},\n",
              " '122324': {'Expiry Date': '05.11.2021',\n",
              "  'Manufacturing Date': '25.05.2021',\n",
              "  'Product': 'Soyabean Oil',\n",
              "  'Quantity': 400,\n",
              "  'Rate': 140},\n",
              " '122325': {'Expiry Date': '25.11.2021',\n",
              "  'Manufacturing Date': '28.05.2021',\n",
              "  'Product': 'Sevai',\n",
              "  'Quantity': 110,\n",
              "  'Rate': 130},\n",
              " '122327': {'Expiry Date': '15.10.2021',\n",
              "  'Manufacturing Date': '24.04.2021',\n",
              "  'Product': 'Flour/Maida',\n",
              "  'Quantity': 110,\n",
              "  'Rate': 120},\n",
              " '122328': {'Expiry Date': '12.09.2021',\n",
              "  'Manufacturing Date': '14.07.2021',\n",
              "  'Product': 'Fenugreek seeds',\n",
              "  'Quantity': 100,\n",
              "  'Rate': 70},\n",
              " '122329': {'Expiry Date': '20.09.2021',\n",
              "  'Manufacturing Date': '28.08.2021',\n",
              "  'Product': 'Amul Mik Powder',\n",
              "  'Quantity': 50,\n",
              "  'Rate': 60},\n",
              " '122330': {'Expiry Date': '11.09.2021',\n",
              "  'Manufacturing Date': '30.07.2021',\n",
              "  'Product': 'Cocoa Powder ',\n",
              "  'Quantity': 100,\n",
              "  'Rate': 80},\n",
              " '122331': {'Expiry Date': '05.09.2021',\n",
              "  'Manufacturing Date': '29.08.2021',\n",
              "  'Product': 'Bread',\n",
              "  'Quantity': 20,\n",
              "  'Rate': 30},\n",
              " '122332': {'Expiry Date': '27.09.2021',\n",
              "  'Manufacturing Date': '11.07.2021',\n",
              "  'Product': 'Gram Flour',\n",
              "  'Quantity': 120,\n",
              "  'Rate': 90},\n",
              " '122333': {'Expiry Date': '13.11.2022',\n",
              "  'Manufacturing Date': '12.07.2021',\n",
              "  'Product': 'Tea',\n",
              "  'Quantity': 200,\n",
              "  'Rate': 180},\n",
              " '122334': {'Expiry Date': '10.10.2022',\n",
              "  'Manufacturing Date': '26.01.2021',\n",
              "  'Product': 'Lux Soap',\n",
              "  'Quantity': 60,\n",
              "  'Rate': 30},\n",
              " '122335': {'Expiry Date': '06.07.2022',\n",
              "  'Manufacturing Date': '25.08.2021',\n",
              "  'Product': 'Sunfeast Biscuit',\n",
              "  'Quantity': '140',\n",
              "  'Rate': '30'}}"
            ]
          },
          "metadata": {},
          "execution_count": 18
        }
      ]
    }
  ]
}